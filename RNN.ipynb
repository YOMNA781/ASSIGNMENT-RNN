{
  "nbformat": 4,
  "nbformat_minor": 0,
  "metadata": {
    "colab": {
      "provenance": [],
      "gpuType": "T4"
    },
    "kernelspec": {
      "name": "python3",
      "display_name": "Python 3"
    },
    "language_info": {
      "name": "python"
    },
    "accelerator": "GPU"
  },
  "cells": [
    {
      "cell_type": "code",
      "source": [
        "import torch\n",
        "import torch.nn as nn\n"
      ],
      "metadata": {
        "id": "VUG5WavOt8Ct"
      },
      "execution_count": 36,
      "outputs": []
    },
    {
      "cell_type": "code",
      "source": [
        "sentence = [\"knowledge\", \"opens\", \"many\", \"doors\"]\n",
        "word_to_idx = {word: idx for idx, word in enumerate(sentence)}\n",
        "idx_to_word = {idx: word for word, idx in word_to_idx.items()}\n",
        "\n",
        "input_words = [\"knowledge\", \"opens\", \"many\"]\n",
        "target_word = \"doors\"\n",
        "\n",
        "inputs = torch.tensor([word_to_idx[word] for word in input_words])\n",
        "target = torch.tensor(word_to_idx[target_word])\n"
      ],
      "metadata": {
        "id": "tJawxlt4tUV5"
      },
      "execution_count": 37,
      "outputs": []
    },
    {
      "cell_type": "code",
      "source": [
        "class MySimpleRNN(nn.Module):\n",
        "    def __init__(self, vocab_size, embed_size, hidden_size):\n",
        "        super(MySimpleRNN, self).__init__()\n",
        "        self.embedding = nn.Embedding(vocab_size, embed_size)\n",
        "        self.Wxh = nn.Parameter(torch.randn(embed_size, hidden_size) * 0.01)\n",
        "        self.Whh = nn.Parameter(torch.randn(hidden_size, hidden_size) * 0.01)\n",
        "        self.bh = nn.Parameter(torch.zeros(hidden_size))\n",
        "        self.fc = nn.Linear(hidden_size, vocab_size)\n",
        "\n",
        "    def forward(self, x):\n",
        "        embeds = self.embedding(x)\n",
        "\n",
        "        h = torch.zeros(self.Whh.size(0))\n",
        "        for i in range(embeds.size(0)):\n",
        "            h = torch.tanh(embeds[i] @ self.Wxh + h @ self.Whh + self.bh)\n",
        "        out = self.fc(h)\n",
        "        return out"
      ],
      "metadata": {
        "id": "bhJag9FntgSq"
      },
      "execution_count": 38,
      "outputs": []
    },
    {
      "cell_type": "code",
      "source": [
        "vocab_size = len(sentence)\n",
        "embed_size = 8\n",
        "hidden_size = 16\n",
        "\n",
        "model = MySimpleRNN(vocab_size, embed_size, hidden_size)\n"
      ],
      "metadata": {
        "id": "eVZEnOk0tqkO"
      },
      "execution_count": 39,
      "outputs": []
    },
    {
      "cell_type": "code",
      "source": [
        "criterion = nn.CrossEntropyLoss()\n",
        "optimizer = torch.optim.Adam(model.parameters(), lr=0.01)\n"
      ],
      "metadata": {
        "id": "xNPti_2Mtuzj"
      },
      "execution_count": 41,
      "outputs": []
    },
    {
      "cell_type": "code",
      "source": [
        "n_epochs = 1000\n",
        "for epoch in range(n_epochs):\n",
        "    optimizer.zero_grad()\n",
        "    output = model(inputs)\n",
        "    loss = criterion(output.unsqueeze(0), target.unsqueeze(0))\n",
        "    loss.backward()\n",
        "    optimizer.step()\n",
        "\n",
        "    if (epoch+1) % 200 == 0:\n",
        "        pred_idx = torch.argmax(output).item()\n",
        "        print(f\"Epoch {epoch+1}, Loss: {loss.item():.4f}, Prediction: {idx_to_word[pred_idx]}\")\n"
      ],
      "metadata": {
        "colab": {
          "base_uri": "https://localhost:8080/"
        },
        "id": "f3Pe3I0et0je",
        "outputId": "af46b698-1128-40ac-dc7a-15c20960cc38"
      },
      "execution_count": 42,
      "outputs": [
        {
          "output_type": "stream",
          "name": "stdout",
          "text": [
            "Epoch 200, Loss: 0.0004, Prediction: doors\n",
            "Epoch 400, Loss: 0.0002, Prediction: doors\n",
            "Epoch 600, Loss: 0.0001, Prediction: doors\n",
            "Epoch 800, Loss: 0.0001, Prediction: doors\n",
            "Epoch 1000, Loss: 0.0000, Prediction: doors\n"
          ]
        }
      ]
    },
    {
      "cell_type": "code",
      "source": [
        "output = model(inputs)\n",
        "pred_idx = torch.argmax(output).item()\n",
        "print(f\"\\nFinal Prediction: {idx_to_word[pred_idx]}\")\n"
      ],
      "metadata": {
        "colab": {
          "base_uri": "https://localhost:8080/"
        },
        "id": "C74l3Vtlt5ei",
        "outputId": "385033b5-e5ac-42e3-c41b-d33d9bfbf6ee"
      },
      "execution_count": 43,
      "outputs": [
        {
          "output_type": "stream",
          "name": "stdout",
          "text": [
            "\n",
            "Final Prediction: doors\n"
          ]
        }
      ]
    }
  ]
}